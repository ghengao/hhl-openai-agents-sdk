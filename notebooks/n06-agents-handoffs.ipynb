{
 "cells": [
  {
   "cell_type": "code",
   "execution_count": 1,
   "metadata": {},
   "outputs": [
    {
     "name": "stderr",
     "output_type": "stream",
     "text": [
      "OPENAI_API_KEY is not set, skipping trace export\n",
      "OPENAI_API_KEY is not set, skipping trace export\n"
     ]
    }
   ],
   "source": [
    "from hhl_openai_agents_sdk.models import get_gemini\n",
    "from dotenv import load_dotenv\n",
    "import nest_asyncio\n",
    "\n",
    "nest_asyncio.apply()\n",
    "load_dotenv()\n",
    "model = get_gemini()"
   ]
  },
  {
   "cell_type": "code",
   "execution_count": 4,
   "metadata": {},
   "outputs": [],
   "source": [
    "from agents import Agent, function_tool\n",
    "\n",
    "\n",
    "@function_tool\n",
    "def book_flight(source: str, destination: str, date: str) -> str:\n",
    "    confirmation_id = \"ABC123\"\n",
    "    cost = 100.0\n",
    "    print('Book Agent Called', source, destination, date)\n",
    "    return f\"Flight booked from {source} to {destination} on {date}, confirmation id: {confirmation_id}, total cost: ${cost}.\"\n",
    "\n",
    "\n",
    "@function_tool\n",
    "def refund_flight(confirmation_id: str) -> str:\n",
    "    print('Refund Agent Called', confirmation_id)\n",
    "    return f\"Flight with booking ID {confirmation_id} has been refunded.\"\n",
    "\n",
    "\n",
    "booking_agent = Agent(\n",
    "    name=\"Booking agent\",\n",
    "    model=model,\n",
    "    instructions=\"Help the customer to book flight.\",\n",
    "    tools=[book_flight],\n",
    ")\n",
    "\n",
    "refund_agent = Agent(\n",
    "    name=\"Refund agent\",\n",
    "    model=model,\n",
    "    instructions=\"Help the customer to cancel flight and refund the money back to customer using the refund tool.\",\n",
    "    tools=[refund_flight],\n",
    ")\n",
    "\n",
    "triage_agent = Agent(\n",
    "    name=\"Triage agent\",\n",
    "    model=model,\n",
    "    instructions=(\n",
    "        \"Help the user with their questions, make sure to use the handoff agent tools, don't reply to user anything other than the tool response\\n\"\n",
    "        \"\\n - If they ask about flight booking, use the flight booking agent tool.\"\n",
    "        \"\\n - If they ask about flight refunds, use the flight refund agent tool.\"\n",
    "    ),\n",
    "\n",
    "    handoffs=[booking_agent, refund_agent],\n",
    ")"
   ]
  },
  {
   "cell_type": "code",
   "execution_count": 5,
   "metadata": {},
   "outputs": [
    {
     "name": "stdout",
     "output_type": "stream",
     "text": [
      "OK. I will transfer you to a booking agent.\n",
      "\n",
      "OK. I will transfer you to a refund agent.\n",
      "\n"
     ]
    }
   ],
   "source": [
    "from agents import Runner\n",
    "\n",
    "result = await Runner.run(\n",
    "    triage_agent,\n",
    "    \"I want to book a flight from New York to San Francisco on 2023-10-15.\",\n",
    ")\n",
    "\n",
    "print(result.final_output)\n",
    "new_input = result.to_input_list() + [{\"role\": \"user\", \"content\": \"I want to cancel my flight with booking ID ABC123.\"}]\n",
    "result = await Runner.run(\n",
    "    triage_agent,\n",
    "    new_input,\n",
    ")\n",
    "print(result.final_output)"
   ]
  },
  {
   "cell_type": "code",
   "execution_count": 6,
   "metadata": {},
   "outputs": [
    {
     "data": {
      "text/plain": [
       "[{'content': 'I want to book a flight from New York to San Francisco on 2023-10-15.',\n",
       "  'role': 'user'},\n",
       " {'id': '__fake_id__',\n",
       "  'arguments': '{}',\n",
       "  'call_id': '',\n",
       "  'name': 'transfer_to_booking_agent',\n",
       "  'type': 'function_call'},\n",
       " {'call_id': '',\n",
       "  'output': \"{'assistant': 'Booking agent'}\",\n",
       "  'type': 'function_call_output'},\n",
       " {'id': '__fake_id__',\n",
       "  'content': [{'annotations': [],\n",
       "    'text': 'OK. I will book a flight from New York to San Francisco on 2023-10-15 for you.\\n',\n",
       "    'type': 'output_text'}],\n",
       "  'role': 'assistant',\n",
       "  'status': 'completed',\n",
       "  'type': 'message'},\n",
       " {'id': '__fake_id__',\n",
       "  'arguments': '{\"source\":\"New York\",\"date\":\"2023-10-15\",\"destination\":\"San Francisco\"}',\n",
       "  'call_id': '',\n",
       "  'name': 'book_flight',\n",
       "  'type': 'function_call'},\n",
       " {'call_id': '',\n",
       "  'output': 'Flight booked from New York to San Francisco on 2023-10-15, confirmation id: ABC123, total cost: $100.0.',\n",
       "  'type': 'function_call_output'},\n",
       " {'id': '__fake_id__',\n",
       "  'content': [{'annotations': [],\n",
       "    'text': 'OK. I have booked a flight from New York to San Francisco on 2023-10-15 for you. The confirmation id is ABC123, and the total cost is $100.0.\\n',\n",
       "    'type': 'output_text'}],\n",
       "  'role': 'assistant',\n",
       "  'status': 'completed',\n",
       "  'type': 'message'},\n",
       " {'role': 'user',\n",
       "  'content': 'I want to cancel my flight with booking ID ABC123.'},\n",
       " {'id': '__fake_id__',\n",
       "  'arguments': '{}',\n",
       "  'call_id': '',\n",
       "  'name': 'transfer_to_refund_agent',\n",
       "  'type': 'function_call'},\n",
       " {'call_id': '',\n",
       "  'output': \"{'assistant': 'Refund agent'}\",\n",
       "  'type': 'function_call_output'},\n",
       " {'id': '__fake_id__',\n",
       "  'content': [{'annotations': [],\n",
       "    'text': 'OK. I will cancel your flight with booking ID ABC123.\\n',\n",
       "    'type': 'output_text'}],\n",
       "  'role': 'assistant',\n",
       "  'status': 'completed',\n",
       "  'type': 'message'},\n",
       " {'id': '__fake_id__',\n",
       "  'arguments': '{\"confirmation_id\":\"ABC123\"}',\n",
       "  'call_id': '',\n",
       "  'name': 'refund_flight',\n",
       "  'type': 'function_call'},\n",
       " {'call_id': '',\n",
       "  'output': 'Flight with booking ID ABC123 has been refunded.',\n",
       "  'type': 'function_call_output'},\n",
       " {'id': '__fake_id__',\n",
       "  'content': [{'annotations': [],\n",
       "    'text': 'OK. I have cancelled your flight with booking ID ABC123 and refunded the money back to you.\\n',\n",
       "    'type': 'output_text'}],\n",
       "  'role': 'assistant',\n",
       "  'status': 'completed',\n",
       "  'type': 'message'}]"
      ]
     },
     "execution_count": 6,
     "metadata": {},
     "output_type": "execute_result"
    }
   ],
   "source": [
    "result.to_input_list()"
   ]
  },
  {
   "cell_type": "code",
   "execution_count": 4,
   "metadata": {},
   "outputs": [
    {
     "name": "stdout",
     "output_type": "stream",
     "text": [
      "OK. I will transfer you to a refund agent who can help you with that.\n",
      "\n"
     ]
    }
   ],
   "source": [
    "from agents import Runner\n",
    "result = Runner.run_sync(\n",
    "    triage_agent,\n",
    "    \"I want to cancel my flight with confirmation ID: ABC123.\",\n",
    ")\n",
    "print(result.final_output)"
   ]
  }
 ],
 "metadata": {
  "kernelspec": {
   "display_name": ".venv",
   "language": "python",
   "name": "python3"
  },
  "language_info": {
   "codemirror_mode": {
    "name": "ipython",
    "version": 3
   },
   "file_extension": ".py",
   "mimetype": "text/x-python",
   "name": "python",
   "nbconvert_exporter": "python",
   "pygments_lexer": "ipython3",
   "version": "3.12.9"
  }
 },
 "nbformat": 4,
 "nbformat_minor": 2
}
