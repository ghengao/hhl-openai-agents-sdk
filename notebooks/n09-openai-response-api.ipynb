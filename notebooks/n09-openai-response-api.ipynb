{
 "cells": [
  {
   "cell_type": "code",
   "execution_count": 1,
   "metadata": {},
   "outputs": [
    {
     "name": "stdout",
     "output_type": "stream",
     "text": [
      "Under the soft glow of a silver moon, a gentle unicorn named Luna danced gracefully through a meadow of twinkling, luminescent flowers, weaving dreams of magic and wonder for all the children fast asleep.\n"
     ]
    }
   ],
   "source": [
    "from openai import OpenAI\n",
    "\n",
    "client = OpenAI()\n",
    "\n",
    "completion = client.chat.completions.create(\n",
    "    model=\"gpt-4o\",\n",
    "    messages=[\n",
    "        {\n",
    "            \"role\": \"user\",\n",
    "            \"content\": \"Write a one-sentence bedtime story about a unicorn.\",\n",
    "        }\n",
    "    ],\n",
    ")\n",
    "\n",
    "print(completion.choices[0].message.content)\n"
   ]
  },
  {
   "cell_type": "code",
   "execution_count": 4,
   "metadata": {},
   "outputs": [
    {
     "name": "stdout",
     "output_type": "stream",
     "text": [
      "{'finish_reason': 'stop',\n",
      " 'index': 0,\n",
      " 'logprobs': None,\n",
      " 'message': {'annotations': [],\n",
      "             'content': 'Under the soft glow of a silver moon, a gentle '\n",
      "                        'unicorn named Luna danced gracefully through a meadow '\n",
      "                        'of twinkling, luminescent flowers, weaving dreams of '\n",
      "                        'magic and wonder for all the children fast asleep.',\n",
      "             'refusal': None,\n",
      "             'role': 'assistant'}}\n"
     ]
    }
   ],
   "source": [
    "from pprint import pprint\n",
    "pprint(completion.choices[0].to_dict())"
   ]
  },
  {
   "cell_type": "code",
   "execution_count": 5,
   "metadata": {},
   "outputs": [
    {
     "name": "stdout",
     "output_type": "stream",
     "text": [
      "Response(id='resp_67d7ab4575b48190b3460f084e1bfbac0cccb239f5579812', created_at=1742187333.0, error=None, incomplete_details=None, instructions=None, metadata={}, model='gpt-4o-2024-08-06', object='response', output=[ResponseOutputMessage(id='msg_67d7ab4637dc8190b425e2841e91d8830cccb239f5579812', content=[ResponseOutputText(annotations=[], text='Under the soft glow of the moon, the unicorn gently tiptoed through the enchanted forest, sprinkling stardust that brought sweet dreams to all sleeping creatures.', type='output_text')], role='assistant', status='completed', type='message')], parallel_tool_calls=True, temperature=1.0, tool_choice='auto', tools=[], top_p=1.0, max_output_tokens=None, previous_response_id=None, reasoning=Reasoning(effort=None, generate_summary=None), status='completed', text=ResponseTextConfig(format=ResponseFormatText(type='text')), truncation='disabled', usage=ResponseUsage(input_tokens=36, output_tokens=34, output_tokens_details=OutputTokensDetails(reasoning_tokens=0), total_tokens=70, input_tokens_details={'cached_tokens': 0}), user=None, store=True)\n"
     ]
    }
   ],
   "source": [
    "from openai import OpenAI\n",
    "\n",
    "client = OpenAI()\n",
    "\n",
    "response = client.responses.create(\n",
    "    model=\"gpt-4o\",\n",
    "    input=[\n",
    "        {\n",
    "            \"role\": \"user\",\n",
    "            \"content\": \"Write a one-sentence bedtime story about a unicorn.\",\n",
    "        }\n",
    "    ],\n",
    ")\n",
    "\n",
    "\n"
   ]
  },
  {
   "cell_type": "code",
   "execution_count": 9,
   "metadata": {},
   "outputs": [
    {
     "name": "stdout",
     "output_type": "stream",
     "text": [
      "{'created_at': 1742187333.0,\n",
      " 'error': None,\n",
      " 'id': 'resp_67d7ab4575b48190b3460f084e1bfbac0cccb239f5579812',\n",
      " 'incomplete_details': None,\n",
      " 'instructions': None,\n",
      " 'max_output_tokens': None,\n",
      " 'metadata': {},\n",
      " 'model': 'gpt-4o-2024-08-06',\n",
      " 'object': 'response',\n",
      " 'output': [{'content': [{'annotations': [],\n",
      "                          'text': 'Under the soft glow of the moon, the '\n",
      "                                  'unicorn gently tiptoed through the '\n",
      "                                  'enchanted forest, sprinkling stardust that '\n",
      "                                  'brought sweet dreams to all sleeping '\n",
      "                                  'creatures.',\n",
      "                          'type': 'output_text'}],\n",
      "             'id': 'msg_67d7ab4637dc8190b425e2841e91d8830cccb239f5579812',\n",
      "             'role': 'assistant',\n",
      "             'status': 'completed',\n",
      "             'type': 'message'}],\n",
      " 'parallel_tool_calls': True,\n",
      " 'previous_response_id': None,\n",
      " 'reasoning': {'effort': None, 'generate_summary': None},\n",
      " 'status': 'completed',\n",
      " 'store': True,\n",
      " 'temperature': 1.0,\n",
      " 'text': {'format': {'type': 'text'}},\n",
      " 'tool_choice': 'auto',\n",
      " 'tools': [],\n",
      " 'top_p': 1.0,\n",
      " 'truncation': 'disabled',\n",
      " 'usage': {'input_tokens': 36,\n",
      "           'input_tokens_details': {'cached_tokens': 0},\n",
      "           'output_tokens': 34,\n",
      "           'output_tokens_details': {'reasoning_tokens': 0},\n",
      "           'total_tokens': 70},\n",
      " 'user': None}\n"
     ]
    }
   ],
   "source": [
    "pprint(response.to_dict())"
   ]
  },
  {
   "cell_type": "code",
   "execution_count": 11,
   "metadata": {},
   "outputs": [
    {
     "name": "stdout",
     "output_type": "stream",
     "text": [
      "{'created_at': 1742187546.0,\n",
      " 'error': None,\n",
      " 'id': 'resp_67d7ac1a927881908dd3db0ed3edd9af0cccb239f5579812',\n",
      " 'incomplete_details': None,\n",
      " 'instructions': None,\n",
      " 'max_output_tokens': None,\n",
      " 'metadata': {},\n",
      " 'model': 'gpt-4o-2024-08-06',\n",
      " 'object': 'response',\n",
      " 'output': [{'content': [{'annotations': [],\n",
      "                          'text': 'You wanted a one-sentence bedtime story '\n",
      "                                  'about a unicorn. The story described a '\n",
      "                                  'unicorn tiptoeing through an enchanted '\n",
      "                                  'forest, sprinkling stardust to bring sweet '\n",
      "                                  'dreams to sleeping creatures.',\n",
      "                          'type': 'output_text'}],\n",
      "             'id': 'msg_67d7ac1ad7048190a2f38f77317c91250cccb239f5579812',\n",
      "             'role': 'assistant',\n",
      "             'status': 'completed',\n",
      "             'type': 'message'}],\n",
      " 'parallel_tool_calls': True,\n",
      " 'previous_response_id': 'resp_67d7ab4575b48190b3460f084e1bfbac0cccb239f5579812',\n",
      " 'reasoning': {'effort': None, 'generate_summary': None},\n",
      " 'status': 'completed',\n",
      " 'store': True,\n",
      " 'temperature': 1.0,\n",
      " 'text': {'format': {'type': 'text'}},\n",
      " 'tool_choice': 'auto',\n",
      " 'tools': [],\n",
      " 'top_p': 1.0,\n",
      " 'truncation': 'disabled',\n",
      " 'usage': {'input_tokens': 89,\n",
      "           'input_tokens_details': {'cached_tokens': 0},\n",
      "           'output_tokens': 39,\n",
      "           'output_tokens_details': {'reasoning_tokens': 0},\n",
      "           'total_tokens': 128},\n",
      " 'user': None}\n"
     ]
    }
   ],
   "source": [
    "response = client.responses.create(\n",
    "    model=\"gpt-4o\",\n",
    "    # Pass the previous conversation ID to continue let the agent to remember the context\n",
    "    previous_response_id='resp_67d7ab4575b48190b3460f084e1bfbac0cccb239f5579812',\n",
    "    input=[\n",
    "        {\n",
    "            \"role\": \"user\",\n",
    "            \"content\": \"What is the story I want you to write just now?\",\n",
    "        }\n",
    "    ],\n",
    ")\n",
    "pprint(response.to_dict())"
   ]
  },
  {
   "cell_type": "code",
   "execution_count": null,
   "metadata": {},
   "outputs": [],
   "source": []
  }
 ],
 "metadata": {
  "kernelspec": {
   "display_name": ".venv",
   "language": "python",
   "name": "python3"
  },
  "language_info": {
   "codemirror_mode": {
    "name": "ipython",
    "version": 3
   },
   "file_extension": ".py",
   "mimetype": "text/x-python",
   "name": "python",
   "nbconvert_exporter": "python",
   "pygments_lexer": "ipython3",
   "version": "3.12.9"
  }
 },
 "nbformat": 4,
 "nbformat_minor": 2
}
