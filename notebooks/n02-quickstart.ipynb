{
 "cells": [
  {
   "cell_type": "code",
   "execution_count": null,
   "metadata": {},
   "outputs": [
    {
     "name": "stderr",
     "output_type": "stream",
     "text": [
      "OPENAI_API_KEY is not set, skipping trace export\n",
      "OPENAI_API_KEY is not set, skipping trace export\n"
     ]
    }
   ],
   "source": [
    "from hhl_openai_agents_sdk.models import get_gemini\n",
    "from dotenv import load_dotenv\n",
    "import nest_asyncio\n",
    "import logfire\n",
    "import os\n",
    "\n",
    "load_dotenv()\n",
    "\n",
    "# make sure we can run async code in jupyter\n",
    "nest_asyncio.apply()\n",
    "\n",
    "# instrument logfire\n",
    "logfire.configure(token=os.getenv(\"LOGFIRE_TOKEN\"))\n",
    "logfire.instrument_openai()\n",
    "\n",
    "# initialize the model\n",
    "model = get_gemini()\n",
    "# model = get_openai()"
   ]
  },
  {
   "cell_type": "code",
   "execution_count": 2,
   "metadata": {},
   "outputs": [],
   "source": [
    "from agents import Agent\n",
    "\n",
    "history_tutor_agent = Agent(\n",
    "    name=\"History Tutor\",\n",
    "    handoff_description=\"Specialist agent for historical questions\",\n",
    "    instructions=\"You provide assistance with historical queries. Explain important events and context clearly.\",\n",
    "    model=model,\n",
    ")\n",
    "\n",
    "math_tutor_agent = Agent(\n",
    "    name=\"Math Tutor\",\n",
    "    handoff_description=\"Specialist agent for math questions\",\n",
    "    instructions=\"You provide help with math problems. Explain your reasoning at each step and include examples\",\n",
    "    model=model,\n",
    ")\n",
    "\n",
    "triage_agent = Agent(\n",
    "    name=\"Triage Agent\",\n",
    "    instructions=\"You determine which agent to use based on the user's homework question\",\n",
    "    handoffs=[history_tutor_agent, math_tutor_agent],\n",
    "    model=model,\n",
    ")"
   ]
  },
  {
   "cell_type": "code",
   "execution_count": 3,
   "metadata": {},
   "outputs": [
    {
     "name": "stdout",
     "output_type": "stream",
     "text": [
      "The capital of France is **Paris**.\n",
      "\n",
      "While that's the simple answer, understanding *why* Paris became and remains the capital is rooted in French history:\n",
      "\n",
      "*   **Strategic Location:** Paris sits on the Seine River, a major waterway that facilitated trade and transportation. This location was attractive to early settlers.\n",
      "\n",
      "*   **Roman Era:** The Romans established a settlement called Lutetia on the Île de la Cité (an island in the Seine where Notre Dame Cathedral is located today). This established the area as a center of importance.\n",
      "\n",
      "*   **Frankish Kings:** Clovis I, the first King of the Franks, made Paris his capital in the 6th century. This was a crucial step in cementing Paris's political significance. While later Frankish rulers didn't always reside there, the city retained a strong symbolic value.\n",
      "\n",
      "*   **Capetian Dynasty:** The Capetian dynasty, starting with Hugh Capet in 987, firmly established Paris as the center of royal power. They built palaces and administrative centers there, making it the de facto capital, even if it wasn't always officially declared as such.\n",
      "\n",
      "*   **Centralization of Power:** Over centuries, French monarchs worked to centralize power in Paris. This included political, economic, and cultural authority. The construction of iconic landmarks like the Louvre, the Palace of Versailles (nearby, but tied to Parisian power), and the development of universities and artistic institutions solidified Paris's dominance.\n",
      "\n",
      "*   **French Revolution:** While the Revolution was a period of upheaval, it ultimately reinforced Paris's role as the heart of France. The revolutionary government was based there, and major events unfolded in the city.\n",
      "\n",
      "*   **Modern Era:** Despite periods of invasion and occupation in later centuries, Paris has consistently remained the capital of France. It is the seat of government, a major economic hub, and a global center for culture, fashion, art, and education.\n",
      "\n",
      "In short, Paris's position as the capital is the result of centuries of strategic location, political decisions, and cultural development, leading to a concentration of power and influence that continues to this day.\n",
      "\n"
     ]
    }
   ],
   "source": [
    "from agents import Runner\n",
    "\n",
    "result = await Runner.run(triage_agent, \"What is the capital of France?\")\n",
    "print(result.final_output)"
   ]
  },
  {
   "cell_type": "code",
   "execution_count": null,
   "metadata": {},
   "outputs": [],
   "source": []
  }
 ],
 "metadata": {
  "kernelspec": {
   "display_name": ".venv",
   "language": "python",
   "name": "python3"
  },
  "language_info": {
   "codemirror_mode": {
    "name": "ipython",
    "version": 3
   },
   "file_extension": ".py",
   "mimetype": "text/x-python",
   "name": "python",
   "nbconvert_exporter": "python",
   "pygments_lexer": "ipython3",
   "version": "3.12.9"
  }
 },
 "nbformat": 4,
 "nbformat_minor": 2
}
