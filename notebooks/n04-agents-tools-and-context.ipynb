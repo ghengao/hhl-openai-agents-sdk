{
 "cells": [
  {
   "cell_type": "code",
   "execution_count": null,
   "metadata": {},
   "outputs": [],
   "source": [
    "from hhl_openai_agents_sdk.models import get_gemini\n",
    "from dotenv import load_dotenv\n",
    "import nest_asyncio\n",
    "\n",
    "nest_asyncio.apply()\n",
    "load_dotenv()\n",
    "model = get_gemini()"
   ]
  },
  {
   "cell_type": "code",
   "execution_count": 5,
   "metadata": {},
   "outputs": [],
   "source": [
    "from agents import Agent, function_tool, RunContextWrapper\n",
    "from dataclasses import dataclass\n",
    "\n",
    "\n",
    "@dataclass\n",
    "class UserContext:\n",
    "    uid: str\n",
    "    city: str\n",
    "    is_pro_user: bool\n",
    "\n",
    "@function_tool\n",
    "def get_weather(w: RunContextWrapper[UserContext]) -> str:\n",
    "    if w.context.is_pro_user:\n",
    "        return f\"weather in {w.context.city} is sunny, the temperature is 25 degrees\"\n",
    "    else:\n",
    "        return f\"weather in {w.context.city} is sunny\"\n",
    "\n",
    "\n",
    "agent = Agent[UserContext](\n",
    "    name=\"Haiku agent\",\n",
    "    instructions=\"Always respond in haiku form\",\n",
    "    model=model,\n",
    "    tools=[get_weather],\n",
    ")"
   ]
  },
  {
   "cell_type": "code",
   "execution_count": 6,
   "metadata": {},
   "outputs": [
    {
     "name": "stdout",
     "output_type": "stream",
     "text": [
      "The weather is sunny,\n",
      "Temperature twenty-five,\n",
      "In France, it is warm.\n",
      "\n"
     ]
    }
   ],
   "source": [
    "from agents import Runner\n",
    "\n",
    "result = Runner.run_sync(agent, \"What is the whether like?\", context=UserContext(uid=\"frank\", city=\"France\", is_pro_user=True))\n",
    "print(result.final_output)"
   ]
  }
 ],
 "metadata": {
  "kernelspec": {
   "display_name": ".venv",
   "language": "python",
   "name": "python3"
  },
  "language_info": {
   "codemirror_mode": {
    "name": "ipython",
    "version": 3
   },
   "file_extension": ".py",
   "mimetype": "text/x-python",
   "name": "python",
   "nbconvert_exporter": "python",
   "pygments_lexer": "ipython3",
   "version": "3.12.9"
  }
 },
 "nbformat": 4,
 "nbformat_minor": 2
}
